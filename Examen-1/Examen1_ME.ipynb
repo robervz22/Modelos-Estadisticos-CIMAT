{
 "metadata": {
  "language_info": {
   "codemirror_mode": {
    "name": "ipython",
    "version": 3
   },
   "file_extension": ".py",
   "mimetype": "text/x-python",
   "name": "python",
   "nbconvert_exporter": "python",
   "pygments_lexer": "ipython3",
   "version": "3.8.5-final"
  },
  "orig_nbformat": 2,
  "kernelspec": {
   "name": "python38564bit3f1c1412c9f641579b5ec8d2225ba9ad",
   "display_name": "Python 3.8.5 64-bit",
   "language": "python"
  }
 },
 "nbformat": 4,
 "nbformat_minor": 2,
 "cells": [
  {
   "cell_type": "code",
   "execution_count": 7,
   "metadata": {},
   "outputs": [
    {
     "output_type": "stream",
     "name": "stdout",
     "text": [
      "MEDIA:\n[[6]\n [0]]\n\nCOVARIANZAS:\n[[ 5  4]\n [ 4 23]]\n"
     ]
    }
   ],
   "source": [
    "#################################\n",
    "# Examen 1 Modelos Estadísticos #\n",
    "#################################\n",
    "import numpy as np\n",
    "import sympy as sym\n",
    "\n",
    "# Problema 4\n",
    "\n",
    "# inciso a)\n",
    "y1, y2, y3 = sym.symbols('y1,y2,y3')\n",
    "Y=np.array([[y1,y2,y3]]).T\n",
    "\n",
    "mu=np.array([[-1,3,2]]).T\n",
    "Sigma=np.array([[2,1,1],[1,3,0],[1,0,4]])\n",
    "\n",
    "A=np.array([[-1,1,1],[1,-1,2]])\n",
    "r=A@Y\n",
    "\n",
    "muz=A@mu\n",
    "sigmaz=A@Sigma@A.T\n",
    "\n",
    "print(\"MEDIA:\")\n",
    "print(muz)\n",
    "\n",
    "print(\"\\nCOVARIANZAS:\")\n",
    "print(sigmaz)"
   ]
  },
  {
   "cell_type": "code",
   "execution_count": 12,
   "metadata": {},
   "outputs": [
    {
     "output_type": "stream",
     "name": "stdout",
     "text": [
      "MEDIA CONDICIONAL:\n[[0.25*y3 - 1.5]\n [3]]\n\nCOVARIANZA CONDICIONAL:\n[[1.75 1.  ]\n [1.   3.  ]]\n\nDETERMINANTE:\n4.250000000000001\n"
     ]
    }
   ],
   "source": [
    "# inciso b)\n",
    "sigma_YX=np.array([[1,0]]).T\n",
    "sigma_XY=sigma_YX.T\n",
    "sigma_YY=np.array([[2,1],[1,3]])\n",
    "sigma_XX=np.array([[4]])\n",
    "sigma_XX_inv=np.linalg.inv(sigma_XX)\n",
    "muY=np.array([[-1,3]]).T\n",
    "muX=np.array([[2]])\n",
    "\n",
    "x=np.array([[y3]])\n",
    "\n",
    "mediaCondicional=muY+sigma_YX@sigma_XX_inv@(x-muX)\n",
    "covarianzaCondicional=sigma_YY-(sigma_YX@sigma_XX_inv@sigma_XY)\n",
    "\n",
    "print(\"MEDIA CONDICIONAL:\")\n",
    "print(mediaCondicional)\n",
    "print(\"\\nCOVARIANZA CONDICIONAL:\")\n",
    "print(covarianzaCondicional)\n",
    "print(\"\\nDETERMINANTE:\")\n",
    "print(np.linalg.det(covarianzaCondicional))"
   ]
  },
  {
   "cell_type": "code",
   "execution_count": 13,
   "metadata": {},
   "outputs": [
    {
     "output_type": "stream",
     "name": "stdout",
     "text": [
      "0.4082482904638631\n"
     ]
    }
   ],
   "source": [
    "import math as mt\n",
    "print(1/mt.sqrt(6))"
   ]
  },
  {
   "cell_type": "code",
   "execution_count": 14,
   "metadata": {},
   "outputs": [
    {
     "output_type": "stream",
     "name": "stdout",
     "text": [
      "0.4364357804719848\n"
     ]
    }
   ],
   "source": [
    "print(1/mt.sqrt(covarianzaCondicional[0][0]*covarianzaCondicional[1][1]))"
   ]
  },
  {
   "cell_type": "code",
   "execution_count": null,
   "metadata": {},
   "outputs": [],
   "source": []
  }
 ]
}