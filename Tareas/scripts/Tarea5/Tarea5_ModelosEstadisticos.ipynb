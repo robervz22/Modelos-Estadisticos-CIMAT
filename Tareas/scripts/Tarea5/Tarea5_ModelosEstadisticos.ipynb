{
 "metadata": {
  "orig_nbformat": 2,
  "kernelspec": {
   "name": "python3",
   "display_name": "Python 3",
   "language": "python"
  }
 },
 "nbformat": 4,
 "nbformat_minor": 2,
 "cells": [
  {
   "source": [
    "## Problema 1 Tarea 5 Modelos Estadísticos ##"
   ],
   "cell_type": "markdown",
   "metadata": {}
  },
  {
   "cell_type": "code",
   "execution_count": 1,
   "metadata": {},
   "outputs": [
    {
     "output_type": "stream",
     "name": "stdout",
     "text": [
      "                       Results: Ordinary least squares\n==============================================================================\nModel:                  OLS              Adj. R-squared (uncentered): 0.983   \nDependent Variable:     Y                AIC:                         135.5357\nDate:                   2021-04-21 18:36 BIC:                         137.9735\nNo. Observations:       25               Log-Likelihood:              -65.768 \nDf Model:               2                F-statistic:                 734.8   \nDf Residuals:           23               Prob (F-statistic):          1.44e-21\nR-squared (uncentered): 0.985            Scale:                       12.267  \n------------------------------------------------------------------------------------\n           Coef.        Std.Err.         t          P>|t|        [0.025       0.975]\n------------------------------------------------------------------------------------\nx1         1.7079         0.1775       9.6207       0.0000       1.3407       2.0751\nx2         0.0161         0.0038       4.2593       0.0003       0.0083       0.0239\n------------------------------------------------------------------------------\nOmnibus:                  2.267             Durbin-Watson:               1.154\nProb(Omnibus):            0.322             Jarque-Bera (JB):            1.825\nSkew:                     -0.643            Prob(JB):                    0.401\nKurtosis:                 2.687             Condition No.:               131  \n==============================================================================\n\n"
     ]
    }
   ],
   "source": [
    "import numpy as np\n",
    "import pandas as pd\n",
    "import matplotlib.pyplot as plt\n",
    "import matplotlib.ticker as ticker\n",
    "\n",
    "sys.path.append(\".\")\n",
    "from LinReg import mlr # Regresión Múltiple\n",
    "from LinReg import slr # Regresión Simple\n",
    "\n",
    "dataP1=pd.read_csv('DatosT5P1.csv')\n",
    "\n",
    "## Inciso a) ##\n",
    "mlrP1=mlr(dataP1)\n",
    "mlrP1.OLS()\n",
    "mlrP1.summary()"
   ]
  },
  {
   "source": [
    "### Calculamos el la correlación y el número de condición ###"
   ],
   "cell_type": "markdown",
   "metadata": {}
  },
  {
   "cell_type": "code",
   "execution_count": 2,
   "metadata": {},
   "outputs": [
    {
     "output_type": "stream",
     "name": "stdout",
     "text": [
      "Correlación X1 y X2: 0.8242\nVIF(b1)= 3.1185 y VIF(b2)= 3.1185\nCond. num= 3.2214\n"
     ]
    }
   ],
   "source": [
    "\n",
    "X=np.column_stack([dataP1['X1'],dataP1['X2']])\n",
    "X_means=np.mean(X,axis=0)\n",
    "X_center=X-X_means\n",
    "X_norms=np.linalg.norm(X_center,axis=0)\n",
    "X_std = X_center/X_norms\n",
    "Z=X_std.T@X_std\n",
    "invZ=np.linalg.inv(Z)\n",
    "\n",
    "## inciso b) ##\n",
    "print('Correlación X1 y X2: %.4f' %(Z[0][1]))\n",
    "\n",
    "## inciso c) ##\n",
    "print('VIF(b1)= %.4f y VIF(b2)= %.4f' %(invZ[0][0],invZ[1][1]))\n",
    "\n",
    "## inciso d) ##\n",
    "eigs = np.linalg.eigvals(Z)\n",
    "condition_number = np.sqrt(eigs.max() / eigs.min())\n",
    "print('Cond. num= %.4f' %(condition_number))"
   ]
  },
  {
   "source": [
    "## Problema 2 Tarea 5 Modelos Estadísticos ##\n"
   ],
   "cell_type": "markdown",
   "metadata": {}
  },
  {
   "cell_type": "code",
   "execution_count": null,
   "metadata": {},
   "outputs": [],
   "source": [
    "dataP2=pd.read_csv('DatosT5P2.csv')\n",
    "\n",
    "## inciso a) ##\n",
    "slrP2=slr(dataP2)\n",
    "slrP2.OLS()\n",
    "slrP2.summary()\n",
    "slrP2.plot_regression()\n",
    "\n"
   ]
  },
  {
   "cell_type": "code",
   "execution_count": null,
   "metadata": {},
   "outputs": [],
   "source": [
    "## inciso b) ##\n",
    "slrP2.resid_vs_previous_resid_plot() # Gráfica\n"
   ]
  },
  {
   "cell_type": "code",
   "execution_count": null,
   "metadata": {},
   "outputs": [],
   "source": [
    "import statsmodels.api as sm\n",
    "\n",
    "## inciso c) ##\n",
    "\n",
    "Y=np.asarray(slrP2.y)\n",
    "X=np.asarray(slrP2.x)\n",
    "e=slrP2.results.resid\n",
    "et1=e[1:]\n",
    "et2=np.asarray(e[:-1])\n",
    "\n",
    "# Regresión para estimar rho\n",
    "results1 = sm.OLS(et1,et2).fit()\n",
    "print(results1.summary2())"
   ]
  },
  {
   "cell_type": "code",
   "execution_count": null,
   "metadata": {},
   "outputs": [],
   "source": [
    "rho=results1.params[0]\n",
    "\n",
    "# Modelo de Cochrane-Orcutt\n",
    "Y_new=Y[1:]-rho*Y[:-1]\n",
    "X_new=X[1:]-rho*X[:-1]\n",
    "X_new_design=np.column_stack([(1-rho)*np.ones(len(X_new)),X_new])\n",
    "\n",
    "results_Coch_Or=sm.OLS(Y_new,X_new_design).fit()\n",
    "print(results_Coch_Or.summary2())"
   ]
  },
  {
   "cell_type": "code",
   "execution_count": null,
   "metadata": {},
   "outputs": [],
   "source": []
  },
  {
   "cell_type": "code",
   "execution_count": null,
   "metadata": {},
   "outputs": [],
   "source": [
    "## inciso d) ##\n",
    "\n",
    "# Grafica\n",
    "residuals_Coch_Or = results_Coch_Or.resid\n",
    "plt.figure(figsize=(10,5))\n",
    "plt.scatter(residuals_Coch_Or[:-1],residuals_Coch_Or[1:])\n",
    "plt.xlabel('Residuals_i')\n",
    "plt.ylabel('Residuals_i-1')\n",
    "plt.title(\"Residuals vs Previous Residuals\")\n"
   ]
  },
  {
   "source": [
    "## Problema 3 Tarea 5 Modelos Estadísticos ##"
   ],
   "cell_type": "markdown",
   "metadata": {}
  },
  {
   "cell_type": "code",
   "execution_count": null,
   "metadata": {},
   "outputs": [],
   "source": [
    "mlrP1.residual_analysis"
   ]
  },
  {
   "cell_type": "code",
   "execution_count": null,
   "metadata": {},
   "outputs": [],
   "source": [
    "## inciso a) ##\n",
    "\n",
    "mlrP1.residual_analysis()\n",
    "h_ii=np.asarray(mlrP1.residual_analysis['hat_diag'])\n",
    "leverange_index=np.where(h_ii>2*mlrP1.p/mlrP1.n)[0]\n",
    "print('Puntos palanca:')\n",
    "print(leverange_index+np.ones(len(leverange_index)))\n",
    "\n"
   ]
  },
  {
   "cell_type": "code",
   "execution_count": null,
   "metadata": {},
   "outputs": [],
   "source": [
    "## inciso b) ##\n",
    "from scipy.stats import beta, t, f\n",
    "dfn=mlrP1.p\n",
    "dfd=mlrP1.n-mlrP1.p\n",
    "cutoff_DCook=4/mlrP1.n\n",
    "D_Cook=np.asarray(mlrP1.residual_analysis['cooks_d'])\n",
    "D_Cook_index=np.where(D_Cook>cutoff_DCook)[0]\n",
    "print('Puntos influyentes en la respuesta (D-Cook):')\n",
    "print(D_Cook_index+np.ones(len(D_Cook_index)))\n"
   ]
  },
  {
   "cell_type": "code",
   "execution_count": null,
   "metadata": {},
   "outputs": [],
   "source": [
    "\n",
    "## inciso c) ##\n",
    "DFBETA_1=np.asarray(mlrP1.residual_analysis['dfb_x1'])\n",
    "DFBETA_2=np.asarray(mlrP1.residual_analysis['dfb_x2'])\n",
    "DFFITS=np.asarray(mlrP1.residual_analysis['dffits'])\n",
    "corte_DFBETA=2/np.sqrt(mlrP1.n)\n",
    "corte_DFFITS=2*np.sqrt(mlrP1.p/mlrP1.n)\n",
    "\n",
    "\n",
    "print('OBSERVACION 9:')\n",
    "print('DFBETA_1: %.4f, DFBETA_2: %.4f, DFFITS: %.4f' %(DFBETA_1[8],DFBETA_2[8],DFFITS[8]))\n",
    "\n",
    "print('\\nOBSERVACION 22:')\n",
    "print('DFBETA_1: %.4f, DFBETA_2: %.4f, DFFITS: %.4f' %(DFBETA_1[21],DFBETA_2[21],DFFITS[21]))\n",
    "\n",
    "print('\\nCorte DFBETA: %.4f' %(corte_DFBETA))\n",
    "print('\\nCorte DFFITS: %.4f' %(corte_DFFITS))"
   ]
  },
  {
   "cell_type": "code",
   "execution_count": null,
   "metadata": {},
   "outputs": [],
   "source": [
    "influence_DFBETA_1=np.where(abs(DFBETA_1)>corte_DFBETA)[0]\n",
    "influence_DFBETA_2=np.where(abs(DFBETA_2)>corte_DFBETA)[0]\n",
    "influence_DFFITS=np.where(abs(DFFITS)>corte_DFFITS)[0]\n",
    "print('Observaciones descartables DFBETA1:')\n",
    "print(influence_DFBETA_1+np.ones(len(influence_DFBETA_1)))\n",
    "print('\\nObservaciones descartables DFBETA2:')\n",
    "print(influence_DFBETA_2+np.ones(len(influence_DFBETA_2)))\n",
    "print('\\nObservaciones descartables DFFITS:')\n",
    "print(influence_DFFITS+np.ones(len(influence_DFFITS)))\n",
    "\n"
   ]
  },
  {
   "cell_type": "code",
   "execution_count": null,
   "metadata": {},
   "outputs": [],
   "source": [
    "## inciso e) ##\n",
    "mlrP1.resid_density_plot()\n",
    "mlrP1.resid_qq_plot()\n"
   ]
  },
  {
   "source": [
    "## Problema 4 Tarea 5 Modelos Estadísticos ##\n"
   ],
   "cell_type": "markdown",
   "metadata": {}
  },
  {
   "cell_type": "code",
   "execution_count": null,
   "metadata": {},
   "outputs": [],
   "source": [
    "critical_value=t.ppf(1-mlrP1.alpha/2,mlrP1.n-mlrP1.p-1)\n",
    "SSE = sum(mlrP1.results.resid**2)\n",
    "s2_without_i = (SSE-mlrP1.results.resid**2/(1-h_ii))/(mlrP1.n-mlrP1.p-1)\n",
    "studentized_residuals = mlrP1.results.resid/(np.sqrt(s2_without_i*(1-h_ii)))\n",
    "outer_studentized=np.where(abs(studentized_residuals)>abs(critical_value))\n",
    "print('Valores Atípicos de los residuos estudentizados:')\n",
    "print(outer_studentized+np.ones(len(outer_studentized)))\n"
   ]
  },
  {
   "cell_type": "code",
   "execution_count": null,
   "metadata": {},
   "outputs": [],
   "source": [
    "dataP4=pd.read_csv('DatosT5P4.csv')\n",
    "\n",
    "X_Dum=dataP4['X'].to_numpy()\n",
    "\n",
    "dataColonia=dataP4.loc[dataP4['Z1']==1]\n",
    "dataColonia.drop(['Z1', 'Z2'], axis=1)\n",
    "dataCentroCom=dataP4.loc[dataP4['Z2']==1]\n",
    "dataCentroCom.drop(['Z1', 'Z2'], axis=1)\n",
    "dataCentro=dataP4.loc[dataP4['Z1']+dataP4['Z2']==0]\n",
    "dataCentro.drop(['Z1', 'Z2'], axis=1)\n",
    "\n",
    "## inciso a) ##\n",
    "\n",
    "slrColonia=slr(dataColonia)\n",
    "slrCentroCom=slr(dataCentroCom)\n",
    "slrCentro=slr(dataCentro)\n",
    "\n",
    "slrColonia.OLS()\n",
    "slrCentroCom.OLS()\n",
    "slrCentro.OLS()\n"
   ]
  },
  {
   "cell_type": "code",
   "execution_count": null,
   "metadata": {},
   "outputs": [],
   "source": [
    "slrColonia.summary()"
   ]
  },
  {
   "cell_type": "code",
   "execution_count": null,
   "metadata": {},
   "outputs": [],
   "source": [
    "slrCentroCom.summary()"
   ]
  },
  {
   "cell_type": "code",
   "execution_count": null,
   "metadata": {},
   "outputs": [],
   "source": [
    "slrCentro.summary()"
   ]
  },
  {
   "cell_type": "code",
   "execution_count": null,
   "metadata": {},
   "outputs": [],
   "source": [
    "## iniciso b) ##\n",
    "\n",
    "x0=np.linspace(min(X_Dum),max(X_Dum), 100)\n",
    "XX0 = np.column_stack([np.ones(100),x0])\n",
    "\n",
    "plt.plot(x0,slrColonia.results.predict(XX0),color='r',label='Colonia')\n",
    "plt.plot(x0,slrCentroCom.results.predict(XX0),color='g',label='CentroCom')\n",
    "plt.plot(x0,slrCentro.results.predict(XX0),color='b',label='Centro')\n",
    "plt.scatter(slrColonia.x,slrColonia.y,color='r',marker='o')\n",
    "plt.scatter(slrCentroCom.x,slrCentroCom.y,color='g',marker='*')\n",
    "plt.scatter(slrCentro.x,slrCentro.y,color='b',marker='^')\n",
    "plt.legend()\n",
    "\n"
   ]
  },
  {
   "cell_type": "code",
   "execution_count": null,
   "metadata": {},
   "outputs": [],
   "source": [
    "\n",
    "## inciso b) ##\n",
    "X_dum=np.column_stack([np.ones(dataP4.shape[0]),dataP4['X'],dataP4['Z1'],dataP4['Z2']])\n",
    "results_Dum=sm.OLS(dataP4['Y'],X_dum).fit()\n",
    "results_Dum.summary2()"
   ]
  },
  {
   "cell_type": "code",
   "execution_count": null,
   "metadata": {},
   "outputs": [],
   "source": [
    "covMatriz=results_Dum.scale*np.linalg.inv(X_dum.T@X_dum)\n",
    "dif1=-6.8638-21.5100\n",
    "std_dif1=np.sqrt(4.7705**2+4.0651**2-2*covMatriz[2][3])\n",
    "\n",
    "print('(Colonia-CentroCom): %.4f, std(Colonia-CentroCom):%.4f, t-valor: %.4f' %(dif1,std_dif1,dif1/std_dif1))\n",
    "print('\\n(Colonia-Centro): %.4f, std(Colonia-Centro): %.4f' %(-6.8638,4.7705))\n",
    "print('\\n(CentroCom-Centro): %.4f, std(CentroCom-Centro): %.4f' %(21.5100,4.0651))"
   ]
  },
  {
   "cell_type": "code",
   "execution_count": null,
   "metadata": {},
   "outputs": [],
   "source": [
    "## inciso e) ##\n",
    "\n",
    "## inciso b) ##\n",
    "X_dum_pendiente=np.column_stack([np.ones(dataP4.shape[0]),dataP4['X'],dataP4['Z1'],dataP4['Z2'],dataP4['X']*dataP4['Z1'],dataP4['X']*dataP4['Z2']])\n",
    "results_Dum_pendiente=sm.OLS(dataP4['Y'],X_dum_pendiente).fit()\n",
    "results_Dum_pendiente.summary2()"
   ]
  },
  {
   "cell_type": "code",
   "execution_count": null,
   "metadata": {},
   "outputs": [],
   "source": [
    "covMatriz_Pendiente=results_Dum_pendiente.scale*np.linalg.inv(X_dum_pendiente.T@X_dum_pendiente)\n",
    "dif2=0.0336+0.0581\n",
    "std_dif2=np.sqrt(0.1382**2+0.0932**2-2*covMatriz_Pendiente[4][5])\n",
    "print('(Colonia-CentroCom): %.4f, std(Colonia-CentroCom):%.4f, t-valor: %.4f' %(dif2,std_dif2,dif2/std_dif2))\n",
    "print('\\n(Colonia-Centro): %.4f, std(Colonia-Centro): %.4f' %(0.0336,0.1382))\n",
    "print('\\n(CentroCom-Centro): %.4f, std(CentroCom-Centro): %.4f' %(-0.0581,0.0932))"
   ]
  },
  {
   "cell_type": "code",
   "execution_count": null,
   "metadata": {},
   "outputs": [],
   "source": []
  }
 ]
}